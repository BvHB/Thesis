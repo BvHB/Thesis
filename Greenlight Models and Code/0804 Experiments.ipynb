{
 "cells": [
  {
   "cell_type": "code",
   "execution_count": 22,
   "metadata": {},
   "outputs": [],
   "source": [
    "from ema_workbench import (\n",
    "    TimeSeriesOutcome, \n",
    "    ScalarOutcome,\n",
    "    perform_experiments, \n",
    "    RealParameter,\n",
    "    CategoricalParameter,\n",
    "    ema_logging, \n",
    "    MultiprocessingEvaluator,\n",
    "    ScalarOutcome,\n",
    "    ArrayOutcome,\n",
    "    Constant,\n",
    "    Model,\n",
    "    Policy\n",
    ")\n",
    "from ema_workbench.connectors.vensim import VensimModel\n",
    "from ema_workbench.em_framework import CategoricalParameter\n",
    "from ema_workbench.em_framework.salib_samplers import get_SALib_problem"
   ]
  },
  {
   "cell_type": "code",
   "execution_count": 23,
   "metadata": {},
   "outputs": [],
   "source": [
    "import matplotlib.pyplot as plt\n",
    "from ema_workbench.analysis.plotting import lines\n",
    "import numpy as np\n",
    "import pandas as pd\n",
    "import seaborn as sns\n",
    "import matplotlib.pyplot as plt\n",
    "import scipy.stats.kde as kde\n"
   ]
  },
  {
   "cell_type": "code",
   "execution_count": 24,
   "metadata": {},
   "outputs": [],
   "source": [
    "if __name__ == \"__main__\":\n",
    "    ema_logging.log_to_stderr(ema_logging.INFO)\n",
    "   "
   ]
  },
  {
   "cell_type": "code",
   "execution_count": 25,
   "metadata": {},
   "outputs": [],
   "source": [
    "wd = r\"./Models\"\n",
    "model = VensimModel(\"simpleModel\", wd=wd, model_file=\"Thesismodel 4.vpmx\")"
   ]
  },
  {
   "cell_type": "code",
   "execution_count": 26,
   "metadata": {},
   "outputs": [],
   "source": [
    "model.outcomes = [\n",
    "    TimeSeriesOutcome('Industrial CO2 savings with green hydrogen'),\n",
    "    TimeSeriesOutcome(\"MW installed\"),\n",
    "    TimeSeriesOutcome(\"LCOH[green hydrogen]\"),\n",
    "    #TimeSeriesOutcome(\"satisfied demand\"),\n",
    "#    TimeSeriesOutcome(\"hydrogen type demand[green hydrogen]\"),\n",
    "#    TimeSeriesOutcome(\"kpi\"),\n",
    "    #TimeSeriesOutcome(\"total project funnel[green hydrogen]\"),\n",
    "    #TimeSeriesOutcome(\"Hydrogen type demand[green hydrogen]\"),\n",
    "    #TimeSeriesOutcome(\"total development time[green hydrogen]\"),\n",
    " #   ScalarOutcome('max mw installed', variable_name='MW installed',function=np.max),\n",
    "#    ScalarOutcome('min production costs', variable_name='LCOH[green hydrogen]',function=np.min),\n",
    "\n",
    "]"
   ]
  },
  {
   "cell_type": "code",
   "execution_count": 27,
   "metadata": {},
   "outputs": [],
   "source": [
    "model.uncertainties = [\n",
    "#Green H2\n",
    "    RealParameter(\"Learning rate\",0.04,0.06),\n",
    "    RealParameter(\"Innovation cycle\",4,6),\n",
    "    RealParameter(\"Relative elasticity\",-0.8,-0.4),\n",
    "    RealParameter(\"Market adaptation speed\",0.4,0.8),\n",
    "    RealParameter(\"Scaling factor\",0.5,2),\n",
    "    RealParameter(\"Electrolysis development\",0.08,0.31),\n",
    "    RealParameter(\"Max efficiency\",0.8,0.9),\n",
    "    RealParameter(\"CO2 elasticity\", 0.4,0.8),\n",
    "    RealParameter(\"Market maturity\",0.2,0.6),\n",
    "    RealParameter(\"Initial CAPEX\", 4000, 6500),\n",
    "    RealParameter(\"Operation & maintenance costs\",0.05,0.15),\n",
    "#H2 Demand\n",
    "    RealParameter(\"Demand substitution rate\",0.1,2),\n",
    "    RealParameter(\"Price elasticity of demand[Green hydrogen]\",-3,-1.5),\n",
    "    RealParameter(\"Price elasticity of demand[Blue hydrogen]\",-2.5,-1,),\n",
    "    RealParameter(\"Price elasticity of demand[Grey hydrogen]\",-1,0),\n",
    "    RealParameter(\"Substitution delay\",1.5,4.5),\n",
    "    RealParameter(\"Premium value[Refineries]\",0,2000),\n",
    "    RealParameter(\"Premium value[Methanol]\",0,2000),\n",
    "    RealParameter(\"Premium value[Ammonia]\",0,2000),\n",
    "    RealParameter(\"Premium value[Steel]\",0,2000),\n",
    "    RealParameter(\"Premium value[Transport]\",0,2000),\n",
    "    RealParameter(\"Premium value[Synthetic fuels]\",0,2000),\n",
    "    RealParameter(\"Allocation key SDE\",0,0.2),\n",
    "    RealParameter(\"Allocation key\",0,0.2),\n",
    "    \n",
    "# #RES\n",
    "\n",
    "    RealParameter(\"Roadmap WOZ\",1000,2000),\n",
    "    RealParameter(\"Onshore RES increase\",0.01,0.04),\n",
    "    RealParameter(\"Other additional renewables\",0.01,0.04),\n",
    "    RealParameter(\"Domestic electrification\",0.03,0.05),\n",
    "    RealParameter(\"Min Capex\",500,2000),\n",
    "    RealParameter(\"Policy market size adjustment[Refineries]\",0.01,0.03),\n",
    "    RealParameter(\"Policy market size adjustment[Methanol]\",-0.02,0.02),\n",
    "    RealParameter(\"Policy market size adjustment[Transport]\",-0.02,0.02),\n",
    "    RealParameter(\"Policy market size adjustment[Ammonia]\",-0.02,0.02),\n",
    "    RealParameter(\"Policy market size adjustment[EFuels]\",-0.02,0.02),\n",
    "    \n",
    "# #Energy demand\n",
    "    RealParameter(\"Transport fuel substitution rate\", 0.1,0.2),\n",
    "    RealParameter(\"Industrial energy substitution rate\",0.1,0.2),\n",
    "    RealParameter(\"Long term price effect\",0.2,0.4),\n",
    "    RealParameter(\"Short term price effect\",0.1,0.3),\n",
    "    RealParameter(\"Oil price\",70,110),\n",
    "    RealParameter(\"Coal price\",70,110),\n",
    "    RealParameter(\"Initial gas price\",50,70),\n",
    "    RealParameter(\"Initial electricity price\",50,70),\n",
    "    RealParameter(\"Biofuel price\",1900,2100),\n",
    "    RealParameter(\"Efuel price\",2400,2600),\n",
    "    RealParameter(\"Market reaction delay\",0.8,1.2),\n",
    "    RealParameter(\"Energy carrier demand elasticity\",-0.6,-0.4),\n",
    "    RealParameter(\"Business cycle\",5,7),\n",
    "    RealParameter(\"Average GDP growth\",0.01,0.03),\n",
    "    RealParameter(\"Innovation factor[Synthetic fuels]\",0.01,0.02),\n",
    "    RealParameter(\"Innovation factor[Biofuels]\",0.01,0.02),\n",
    "    RealParameter(\"Innovation factor[Electricity]\",0.01,0.02),\n",
    "    RealParameter(\"Efficiency increase\",0.01,0.02)\n",
    "                  ]"
   ]
  },
  {
   "cell_type": "code",
   "execution_count": 28,
   "metadata": {},
   "outputs": [],
   "source": [
    "policies = [\n",
    "        Policy(\"No policy\", model_file=r\"Thesismodel no policy.vpmx\"),\n",
    "        Policy(\"Existing policy\", model_file=r\"Thesismodel exisiting policy.vpmx\"),\n",
    "        Policy(\"New policy\", model_file=r\"Thesismodel new policy.vpmx\"),\n",
    "    ]"
   ]
  },
  {
   "cell_type": "code",
   "execution_count": 29,
   "metadata": {
    "scrolled": false
   },
   "outputs": [
    {
     "name": "stderr",
     "output_type": "stream",
     "text": [
      "C:\\Users\\bern\\anaconda3\\lib\\site-packages\\ema_workbench\\em_framework\\evaluators.py:349: UserWarning: the number of processes cannot be more then 8\n",
      "  warnings.warn(f\"the number of processes cannot be more then {max_processes}\")\n",
      "[MainProcess/INFO] pool started with 7 workers\n",
      "[MainProcess/INFO] performing 1000 scenarios * 3 policies * 1 model(s) = 3000 experiments\n",
      "100%|██████████████████████████████████████| 3000/3000 [10:06<00:00,  4.95it/s]\n",
      "[MainProcess/INFO] experiments finished\n",
      "[MainProcess/INFO] terminating pool\n"
     ]
    }
   ],
   "source": [
    "from ema_workbench import MultiprocessingEvaluator, ema_logging, perform_experiments\n",
    "\n",
    "ema_logging.log_to_stderr(ema_logging.INFO)\n",
    "\n",
    "with MultiprocessingEvaluator(model, n_processes=7) as evaluator:\n",
    "    results = evaluator.perform_experiments(scenarios=1000, policies = policies)"
   ]
  },
  {
   "cell_type": "code",
   "execution_count": 30,
   "metadata": {},
   "outputs": [],
   "source": [
    "experiments, outcomes = results"
   ]
  },
  {
   "cell_type": "code",
   "execution_count": 31,
   "metadata": {},
   "outputs": [
    {
     "name": "stderr",
     "output_type": "stream",
     "text": [
      "C:\\Users\\bern\\anaconda3\\lib\\site-packages\\ema_workbench\\em_framework\\outcomes.py:496: UserWarning: still to be tested!!\n",
      "  warnings.warn(\"still to be tested!!\")\n",
      "[MainProcess/INFO] results saved successfully to C:\\Users\\bern\\Documents\\TU\\EPA\\Thesis\\Python\\1104.tar.gz\n"
     ]
    }
   ],
   "source": [
    "from ema_workbench import save_results\n",
    "save_results(results, r'./1104.tar.gz')"
   ]
  },
  {
   "cell_type": "code",
   "execution_count": null,
   "metadata": {},
   "outputs": [],
   "source": []
  }
 ],
 "metadata": {
  "kernelspec": {
   "display_name": "Python 3 (ipykernel)",
   "language": "python",
   "name": "python3"
  },
  "language_info": {
   "codemirror_mode": {
    "name": "ipython",
    "version": 3
   },
   "file_extension": ".py",
   "mimetype": "text/x-python",
   "name": "python",
   "nbconvert_exporter": "python",
   "pygments_lexer": "ipython3",
   "version": "3.8.3"
  }
 },
 "nbformat": 4,
 "nbformat_minor": 4
}
