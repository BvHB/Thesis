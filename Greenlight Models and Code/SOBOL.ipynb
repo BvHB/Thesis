{
 "cells": [
  {
   "cell_type": "code",
   "execution_count": null,
   "id": "ddfc0a21",
   "metadata": {},
   "outputs": [],
   "source": [
    "from SALib.analyze import sobol\n",
    "from ema_workbench import Samplers\n",
    "from ema_workbench.em_framework.salib_samplers import get_SALib_problem\n",
    "from ema_workbench.connectors.vensim import VensimModel\n",
    "from ema_workbench import (\n",
    "    TimeSeriesOutcome, \n",
    "    ScalarOutcome,\n",
    "    perform_experiments, \n",
    "    RealParameter,\n",
    "    CategoricalParameter,\n",
    "    ema_logging, \n",
    "    MultiprocessingEvaluator,\n",
    "    ScalarOutcome,\n",
    "    ArrayOutcome,\n",
    "    Constant,\n",
    "    Model,\n",
    "    Policy\n",
    ")\n",
    "import pandas as pd\n",
    "import seaborn as sns\n",
    "import numpy as np\n",
    "import matplotlib.pyplot as plt"
   ]
  },
  {
   "cell_type": "code",
   "execution_count": null,
   "id": "ae99b196",
   "metadata": {},
   "outputs": [],
   "source": [
    "wd = r\"./Models\"\n",
    "model = VensimModel(\"simpleModel\", wd=wd, model_file=\"Thesismodel no policy1.vpmx\") "
   ]
  },
  {
   "cell_type": "code",
   "execution_count": null,
   "id": "b62bd839",
   "metadata": {},
   "outputs": [],
   "source": [
    "model.outcomes = [\n",
    "    TimeSeriesOutcome('TIME'),\n",
    "    TimeSeriesOutcome(\"MW installed\"),\n",
    "    TimeSeriesOutcome(\"LCOH[green hydrogen]\"),\n",
    "    #TimeSeriesOutcome(\"total project funnel[green hydrogen]\"),\n",
    "    #TimeSeriesOutcome(\"Hydrogen type demand[green hydrogen]\"),\n",
    "    #TimeSeriesOutcome(\"total development time[green hydrogen]\"),\n",
    "    TimeSeriesOutcome(\"satisfied demand\")\n",
    "]"
   ]
  },
  {
   "cell_type": "code",
   "execution_count": null,
   "id": "4cdab3a0",
   "metadata": {},
   "outputs": [],
   "source": [
    "model.uncertainties = [\n",
    "    RealParameter(\"Demand substitution rate\",0.78,2),\n",
    "    RealParameter(\"Roadmap WOZ\",1000,1500),\n",
    "    RealParameter(\"Efficiency increase\",0.01,0.017),\n",
    "]"
   ]
  },
  {
   "cell_type": "code",
   "execution_count": null,
   "id": "2e33ed81",
   "metadata": {},
   "outputs": [],
   "source": [
    "sa_results"
   ]
  },
  {
   "cell_type": "code",
   "execution_count": null,
   "id": "2b56ec2a",
   "metadata": {},
   "outputs": [],
   "source": [
    "from ema_workbench import MultiprocessingEvaluator, ema_logging\n",
    "from SALib.analyze import sobol\n",
    "from ema_workbench import Samplers\n",
    "#from ema_workbench.em_framework.evaluators import SOBOL\n",
    "from ema_workbench.em_framework import get_SALib_problem\n",
    "n_exp = 200\n",
    "ema_logging.log_to_stderr(ema_logging.INFO)\n",
    "\n",
    "with MultiprocessingEvaluator(model) as evaluator:\n",
    "    sa_results = evaluator.perform_experiments(scenarios=n_exp, uncertainty_sampling=Samplers.SOBOL)"
   ]
  },
  {
   "cell_type": "code",
   "execution_count": null,
   "id": "b899133e",
   "metadata": {},
   "outputs": [],
   "source": [
    "experiments, outcomes = sa_results\n",
    "outcomes"
   ]
  },
  {
   "cell_type": "code",
   "execution_count": null,
   "id": "70a36814",
   "metadata": {},
   "outputs": [],
   "source": [
    "from SALib.analyze.sobol import analyze\n",
    "\n",
    "problem = get_SALib_problem(model.uncertainties)\n",
    "final_sobol = outcomes['MW installed'][:,-1]\n",
    "mean_sobol = np.mean(outcomes['MW installed'][:,:],axis=1)\n",
    "std_sobol = np.std(outcomes['MW installed'][:,:],axis=1)\n",
    "\n",
    "Si = sobol.analyze(problem, final_sobol, calc_second_order=True, print_to_console=True)\n"
   ]
  },
  {
   "cell_type": "code",
   "execution_count": null,
   "id": "c3c4747a",
   "metadata": {},
   "outputs": [],
   "source": [
    "Si_filter = {k:Si[k] for k in ['ST','ST_conf','S1','S1_conf']}\n",
    "Si_df = pd.DataFrame(Si_filter, index=problem['names'])\n",
    "\n",
    "sns.set_style('white')\n",
    "fig, ax = plt.subplots(1)\n",
    "\n",
    "indices = Si_df[['S1','ST']]\n",
    "err = Si_df[['S1_conf','ST_conf']]\n",
    "\n",
    "indices.plot.bar(yerr=err.values.T,ax=ax)\n",
    "fig.set_size_inches(8,6)\n",
    "fig.subplots_adjust(bottom=0.3)\n",
    "plt.show()"
   ]
  },
  {
   "cell_type": "code",
   "execution_count": null,
   "id": "30a871b1",
   "metadata": {},
   "outputs": [],
   "source": [
    "Y = mean_sobol\n",
    "\n",
    "s_data = pd.DataFrame(index=problem['names'],\n",
    "                      columns=np.arange(20,n_exp,50)*(2*problem['num_vars']+2))\n",
    "for j in s_data.columns:\n",
    "    scores = sobol.analyze(problem, Y[0:j], calc_second_order=True, print_to_console=False)\n",
    "    s_data.loc[:,j] = scores['ST']"
   ]
  },
  {
   "cell_type": "code",
   "execution_count": null,
   "id": "47614ac0",
   "metadata": {},
   "outputs": [],
   "source": [
    "fig, ax = plt.subplots(1)\n",
    "\n",
    "s_data.T.plot(ax=ax)\n",
    "ax.set_xlabel('Samples')\n",
    "ax.set_ylabel('Total index (ST)')\n",
    "plt.show()"
   ]
  },
  {
   "cell_type": "code",
   "execution_count": null,
   "id": "80373f96",
   "metadata": {},
   "outputs": [],
   "source": [
    "sobol_results = {}\n",
    "for policy in experiments.policy.unique():\n",
    "    logical = experiments.policy == policy\n",
    "    y = final_sobol[logical]\n",
    "    indices = analyze(problem, y)\n",
    "    sobol_results[policy] = indices"
   ]
  },
  {
   "cell_type": "code",
   "execution_count": null,
   "id": "62d62f90",
   "metadata": {},
   "outputs": [],
   "source": [
    "indices"
   ]
  },
  {
   "cell_type": "code",
   "execution_count": null,
   "id": "44916a6e",
   "metadata": {},
   "outputs": [],
   "source": [
    "plt.hist(y)\n",
    "plt.show()"
   ]
  },
  {
   "cell_type": "code",
   "execution_count": null,
   "id": "34bf6122",
   "metadata": {},
   "outputs": [],
   "source": [
    "from ema_workbench.analysis import feature_scoring"
   ]
  },
  {
   "cell_type": "code",
   "execution_count": null,
   "id": "6e2a5462",
   "metadata": {},
   "outputs": [],
   "source": [
    "import seaborn as sns\n",
    "\n",
    "for policy in experiments.policy.unique():\n",
    "    logical = experiments.policy == policy\n",
    "    subset_results = {k:v[logical] for k,v in outcomes.items()}\n",
    "    scores = feature_scoring.get_feature_scores_all(experiments[logical],\n",
    "                                                   subset_results)\n",
    "    sns.heatmap(scores, annot=True, cmap='viridis')\n",
    "    plt.show()"
   ]
  },
  {
   "cell_type": "code",
   "execution_count": null,
   "id": "806b5559",
   "metadata": {},
   "outputs": [],
   "source": []
  }
 ],
 "metadata": {
  "kernelspec": {
   "display_name": "Python 3 (ipykernel)",
   "language": "python",
   "name": "python3"
  },
  "language_info": {
   "codemirror_mode": {
    "name": "ipython",
    "version": 3
   },
   "file_extension": ".py",
   "mimetype": "text/x-python",
   "name": "python",
   "nbconvert_exporter": "python",
   "pygments_lexer": "ipython3",
   "version": "3.8.3"
  }
 },
 "nbformat": 4,
 "nbformat_minor": 5
}
